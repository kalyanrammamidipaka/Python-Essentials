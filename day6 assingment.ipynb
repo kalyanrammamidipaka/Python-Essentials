{
 "cells": [
  {
   "cell_type": "code",
   "execution_count": 2,
   "metadata": {},
   "outputs": [
    {
     "name": "stdout",
     "output_type": "stream",
     "text": [
      "total balance after deposite: 4500\n",
      "total balance after deposite: 8500\n",
      "total balance after withdraw: 6500\n",
      "total balance after withdraw: 3500\n"
     ]
    }
   ],
   "source": [
    "class bank_account():\n",
    "    def __init__(self,ownername,balance):\n",
    "        self.ownername=ownername\n",
    "        self.balance=balance\n",
    "    def deposite(self,amnt):\n",
    "        self.balance+=amnt\n",
    "        print(\"total balance after deposite:\",self.balance)\n",
    "    def withdraw(self,amnt):\n",
    "        if amnt<=self.balance:\n",
    "            self.balance-=amnt\n",
    "            print(\"total balance after withdraw:\",self.balance)\n",
    "        else:    \n",
    "            print(\"insufficient withdraw amount present in the account\")\n",
    "a=bank_account(\"kalyan\",4000)\n",
    "a.deposite(500)\n",
    "a.deposite(4000)\n",
    "a.withdraw(2000)\n",
    "a.withdraw(3000)"
   ]
  },
  {
   "cell_type": "code",
   "execution_count": 3,
   "metadata": {},
   "outputs": [
    {
     "name": "stdout",
     "output_type": "stream",
     "text": [
      "volume of cone:- 261.90476190476187\n",
      "base 78.57142857142857\n",
      "side 175.69105537498348\n"
     ]
    }
   ],
   "source": [
    "class cone():\n",
    "    def __init__(self,radius,height):\n",
    "        self.radius=radius\n",
    "    def volume(self,r,h):\n",
    "        vol=(1/3)*(22/7)*(r**2)*h\n",
    "        print(\"volume of cone:-\",vol)\n",
    "    def surface_area(self,r,h):\n",
    "        b=(22/7)*(r**2)\n",
    "        s=(22/7)*(r)*((r**2)+(h**2))**(1/2)\n",
    "        print(\"base\",b)\n",
    "        print(\"side\",s)\n",
    "c=cone(5,10)\n",
    "c.volume(5,10)\n",
    "c.surface_area(5,10)"
   ]
  },
  {
   "cell_type": "code",
   "execution_count": null,
   "metadata": {},
   "outputs": [],
   "source": []
  }
 ],
 "metadata": {
  "kernelspec": {
   "display_name": "Python 3",
   "language": "python",
   "name": "python3"
  },
  "language_info": {
   "codemirror_mode": {
    "name": "ipython",
    "version": 3
   },
   "file_extension": ".py",
   "mimetype": "text/x-python",
   "name": "python",
   "nbconvert_exporter": "python",
   "pygments_lexer": "ipython3",
   "version": "3.7.6"
  }
 },
 "nbformat": 4,
 "nbformat_minor": 4
}
