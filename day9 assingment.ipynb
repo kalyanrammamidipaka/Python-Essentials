{
 "cells": [
  {
   "cell_type": "code",
   "execution_count": 3,
   "metadata": {},
   "outputs": [
    {
     "name": "stdout",
     "output_type": "stream",
     "text": [
      "[1, 2, 3, 4, 5, 6, 7, 8, 9, 153, 370, 371, 407]\n"
     ]
    }
   ],
   "source": [
    "def armstrongnumber(lst):\n",
    "    for items in lst:\n",
    "        ord=len(str(items))\n",
    "        sum=0\n",
    "        temp=items\n",
    "        while temp>0:\n",
    "            digits=temp%10\n",
    "            sum+=digits**ord\n",
    "            temp//=10\n",
    "        if sum==items:\n",
    "            yield items\n",
    "lst=list(range(1,1000))\n",
    "print(list(armstrongnumber(lst)))"
   ]
  },
  {
   "cell_type": "code",
   "execution_count": 4,
   "metadata": {},
   "outputs": [
    {
     "name": "stdout",
     "output_type": "stream",
     "text": [
      "Requirement already satisfied: pylint in c:\\users\\kalyanram mamidipaka\\anaconda3\\lib\\site-packages (2.4.4)\n",
      "Requirement already satisfied: colorama; sys_platform == \"win32\" in c:\\users\\kalyanram mamidipaka\\anaconda3\\lib\\site-packages (from pylint) (0.4.3)\n",
      "Requirement already satisfied: isort<5,>=4.2.5 in c:\\users\\kalyanram mamidipaka\\anaconda3\\lib\\site-packages (from pylint) (4.3.21)\n",
      "Requirement already satisfied: astroid<2.4,>=2.3.0 in c:\\users\\kalyanram mamidipaka\\anaconda3\\lib\\site-packages (from pylint) (2.3.3)\n",
      "Requirement already satisfied: mccabe<0.7,>=0.6 in c:\\users\\kalyanram mamidipaka\\anaconda3\\lib\\site-packages (from pylint) (0.6.1)\n",
      "Requirement already satisfied: wrapt==1.11.* in c:\\users\\kalyanram mamidipaka\\anaconda3\\lib\\site-packages (from astroid<2.4,>=2.3.0->pylint) (1.11.2)\n",
      "Requirement already satisfied: six~=1.12 in c:\\users\\kalyanram mamidipaka\\anaconda3\\lib\\site-packages (from astroid<2.4,>=2.3.0->pylint) (1.14.0)\n",
      "Requirement already satisfied: typed-ast<1.5,>=1.4.0; implementation_name == \"cpython\" and python_version < \"3.8\" in c:\\users\\kalyanram mamidipaka\\anaconda3\\lib\\site-packages (from astroid<2.4,>=2.3.0->pylint) (1.4.1)\n",
      "Requirement already satisfied: lazy-object-proxy==1.4.* in c:\\users\\kalyanram mamidipaka\\anaconda3\\lib\\site-packages (from astroid<2.4,>=2.3.0->pylint) (1.4.3)\n"
     ]
    }
   ],
   "source": [
    "! pip install pylint"
   ]
  },
  {
   "cell_type": "code",
   "execution_count": 21,
   "metadata": {},
   "outputs": [
    {
     "name": "stdout",
     "output_type": "stream",
     "text": [
      "Overwriting primenumber.py\n"
     ]
    }
   ],
   "source": [
    "%%writefile primenumber.py\n",
    "a = int(input())\n",
    "if (a > 1):\n",
    "    for i in range(2, a):\n",
    "        # it proves the number is prime or not\n",
    "        if a%i == 0:\n",
    "            #it prints a not prime if the number is not a prime\n",
    "            print(a, \"not a prime number\")\n",
    "            break\n",
    "        else:\n",
    "            #it prints prime if the is a prime number\n",
    "            print(a, \"it's a prime number\")\n",
    "            break\n",
    "else:\n",
    "    print(a, \"not a prime\")"
   ]
  },
  {
   "cell_type": "code",
   "execution_count": 22,
   "metadata": {},
   "outputs": [
    {
     "name": "stdout",
     "output_type": "stream",
     "text": [
      "************* Module primenumber\n",
      "primenumber.py:2:0: C0325: Unnecessary parens after 'if' keyword (superfluous-parens)\n",
      "primenumber.py:1:0: C0114: Missing module docstring (missing-module-docstring)\n",
      "primenumber.py:1:0: C0103: Constant name \"a\" doesn't conform to UPPER_CASE naming style (invalid-name)\n",
      "primenumber.py:5:8: R1723: Unnecessary \"else\" after \"break\" (no-else-break)\n",
      "\n",
      "------------------------------------------------------------------\n",
      "\n",
      "Your code has been rated at 5.56/10 (previous run: 1.00/10, +4.56)\n",
      "\n",
      "\n",
      "\n"
     ]
    }
   ],
   "source": [
    "! pylint \"primenumber.py\""
   ]
  },
  {
   "cell_type": "code",
   "execution_count": null,
   "metadata": {},
   "outputs": [],
   "source": []
  }
 ],
 "metadata": {
  "kernelspec": {
   "display_name": "Python 3",
   "language": "python",
   "name": "python3"
  },
  "language_info": {
   "codemirror_mode": {
    "name": "ipython",
    "version": 3
   },
   "file_extension": ".py",
   "mimetype": "text/x-python",
   "name": "python",
   "nbconvert_exporter": "python",
   "pygments_lexer": "ipython3",
   "version": "3.7.6"
  }
 },
 "nbformat": 4,
 "nbformat_minor": 4
}
